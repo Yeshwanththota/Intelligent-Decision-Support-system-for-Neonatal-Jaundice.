{
 "cells": [
  {
   "cell_type": "code",
   "execution_count": 2,
   "id": "b2f99c20",
   "metadata": {},
   "outputs": [
    {
     "name": "stdout",
     "output_type": "stream",
     "text": [
      "Collecting visualkeras\n",
      "  Downloading visualkeras-0.0.2-py3-none-any.whl (12 kB)\n",
      "Collecting aggdraw>=1.3.11\n",
      "  Downloading aggdraw-1.3.16-cp39-cp39-win_amd64.whl (43 kB)\n",
      "     ---------------------------------------- 43.2/43.2 kB ? eta 0:00:00\n",
      "Requirement already satisfied: pillow>=6.2.0 in c:\\users\\yashw\\flnew\\lib\\site-packages (from visualkeras) (9.2.0)\n",
      "Requirement already satisfied: numpy>=1.18.1 in c:\\users\\yashw\\flnew\\lib\\site-packages (from visualkeras) (1.21.5)\n",
      "Installing collected packages: aggdraw, visualkeras\n",
      "Successfully installed aggdraw-1.3.16 visualkeras-0.0.2\n",
      "Collecting ann_visualizer\n",
      "  Using cached ann_visualizer-2.5-py3-none-any.whl\n",
      "Installing collected packages: ann_visualizer\n",
      "Successfully installed ann_visualizer-2.5\n",
      "Collecting graphviz\n",
      "  Downloading graphviz-0.20.1-py3-none-any.whl (47 kB)\n",
      "     --------------------------------------- 47.0/47.0 kB 2.3 MB/s eta 0:00:00\n",
      "Installing collected packages: graphviz\n",
      "Successfully installed graphviz-0.20.1\n"
     ]
    }
   ],
   "source": [
    "# !pip install visualkeras\n",
    "# !pip install ann_visualizer\n",
    "# !pip install graphviz"
   ]
  },
  {
   "cell_type": "code",
   "execution_count": 1,
   "id": "447ece1c",
   "metadata": {},
   "outputs": [],
   "source": [
    "# Import necessary libraries\n",
    "import pandas as pd\n",
    "import numpy as np                               # Import numpy\n",
    "from skimage import data, io   # Import skimage library (data - Test images and example data.\n",
    "#                          io - Reading, saving, and displaying images.)\n",
    "from skimage.color import rgb2gray\n",
    "import matplotlib.pyplot as plt                  # Import matplotlib.pyplot (Plotting framework in Python.)\n",
    "%matplotlib inline\n",
    "import os                                        # This module provides a portable way of using operating system dependent functionality.\n",
    "os.environ['TF_CPP_MIN_LOG_LEVEL'] = '3'\n",
    "import warnings\n",
    "# Suppress warnings\n",
    "warnings.filterwarnings('ignore')\n",
    "from IPython.display import display\n",
    "import cv2 as cv\n",
    "from sklearn.metrics import confusion_matrix\n",
    "from sklearn.model_selection import train_test_split\n",
    "from tensorflow.keras import utils\n",
    "from tensorflow.keras.models import Sequential,load_model\n",
    "from tensorflow.keras.layers import Dense, Dropout, Flatten, Conv2D, MaxPool2D, BatchNormalization\n",
    "from tensorflow.keras.optimizers import Adam\n",
    "import tensorflow as tf\n",
    "import seaborn as sns"
   ]
  },
  {
   "cell_type": "code",
   "execution_count": 2,
   "id": "0905875c",
   "metadata": {},
   "outputs": [
    {
     "name": "stdout",
     "output_type": "stream",
     "text": [
      "Requirement already satisfied: graphviz in c:\\users\\yashw\\conda\\lib\\site-packages (0.20.1)\n"
     ]
    }
   ],
   "source": [
    "!pip  install graphviz"
   ]
  },
  {
   "cell_type": "code",
   "execution_count": 12,
   "id": "e53bf372",
   "metadata": {},
   "outputs": [
    {
     "name": "stdout",
     "output_type": "stream",
     "text": [
      "Requirement already satisfied: pydot in c:\\users\\yashw\\conda\\lib\\site-packages (1.4.2)\n",
      "Requirement already satisfied: pyparsing>=2.1.4 in c:\\users\\yashw\\conda\\lib\\site-packages (from pydot) (2.4.7)\n"
     ]
    }
   ],
   "source": [
    "!pip  install pydot"
   ]
  },
  {
   "cell_type": "code",
   "execution_count": 3,
   "id": "9ca2d6a7",
   "metadata": {},
   "outputs": [
    {
     "name": "stderr",
     "output_type": "stream",
     "text": [
      "WARNING:absl:`lr` is deprecated, please use `learning_rate` instead, or use the legacy optimizer, e.g.,tf.keras.optimizers.legacy.Adam.\n"
     ]
    },
    {
     "name": "stdout",
     "output_type": "stream",
     "text": [
      "Model: \"sequential\"\n",
      "_________________________________________________________________\n",
      " Layer (type)                Output Shape              Param #   \n",
      "=================================================================\n",
      " conv2d (Conv2D)             (None, 511, 511, 16)      208       \n",
      "                                                                 \n",
      " max_pooling2d (MaxPooling2D  (None, 255, 255, 16)     0         \n",
      " )                                                               \n",
      "                                                                 \n",
      " dropout (Dropout)           (None, 255, 255, 16)      0         \n",
      "                                                                 \n",
      " conv2d_1 (Conv2D)           (None, 254, 254, 32)      2080      \n",
      "                                                                 \n",
      " max_pooling2d_1 (MaxPooling  (None, 127, 127, 32)     0         \n",
      " 2D)                                                             \n",
      "                                                                 \n",
      " dropout_1 (Dropout)         (None, 127, 127, 32)      0         \n",
      "                                                                 \n",
      " conv2d_2 (Conv2D)           (None, 126, 126, 64)      8256      \n",
      "                                                                 \n",
      " max_pooling2d_2 (MaxPooling  (None, 63, 63, 64)       0         \n",
      " 2D)                                                             \n",
      "                                                                 \n",
      " dropout_2 (Dropout)         (None, 63, 63, 64)        0         \n",
      "                                                                 \n",
      " flatten (Flatten)           (None, 254016)            0         \n",
      "                                                                 \n",
      " dense (Dense)               (None, 128)               32514176  \n",
      "                                                                 \n",
      " dropout_3 (Dropout)         (None, 128)               0         \n",
      "                                                                 \n",
      " dense_1 (Dense)             (None, 64)                8256      \n",
      "                                                                 \n",
      " dropout_4 (Dropout)         (None, 64)                0         \n",
      "                                                                 \n",
      " dense_2 (Dense)             (None, 2)                 130       \n",
      "                                                                 \n",
      "=================================================================\n",
      "Total params: 32,533,106\n",
      "Trainable params: 32,533,106\n",
      "Non-trainable params: 0\n",
      "_________________________________________________________________\n",
      "You must install pydot (`pip install pydot`) and install graphviz (see instructions at https://graphviz.gitlab.io/download/) for plot_model to work.\n"
     ]
    }
   ],
   "source": [
    "from keras.regularizers import l2\n",
    "def cconstruct_model(learningRate):\n",
    "    # learningRate = 0.00001\n",
    "    smodel = Sequential()\n",
    "    smodel.add(Conv2D(filters=16, kernel_size=(2, 2), input_shape=(512, 512, 3), activation=\"relu\"))\n",
    "    smodel.add(MaxPool2D((2, 2)))\n",
    "    smodel.add(Dropout(0.2))\n",
    "    smodel.add(Conv2D(filters=32, kernel_size=(2, 2), activation=\"relu\"))\n",
    "    smodel.add(MaxPool2D((2, 2)))\n",
    "    smodel.add(Dropout(0.2))\n",
    "    smodel.add(Conv2D(filters=64, kernel_size=(2, 2), activation=\"relu\"))\n",
    "    smodel.add(MaxPool2D((2, 2)))\n",
    "    smodel.add(Dropout(0.2))\n",
    "    smodel.add(Flatten())\n",
    "    smodel.add(Dense(128, activation=\"relu\", kernel_regularizer=l2(0.001)))\n",
    "    smodel.add(Dropout(0.3))\n",
    "    smodel.add(Dense(64, activation=\"relu\", kernel_regularizer=l2(0.001)))\n",
    "    smodel.add(Dropout(0.3))\n",
    "    smodel.add(Dense(2, activation=\"sigmoid\"))\n",
    "\n",
    "    optimizer = Adam(lr=learningRate)\n",
    "\n",
    "    # Compile the model\n",
    "    smodel.compile(loss='binary_crossentropy', optimizer=optimizer, metrics=['accuracy'])\n",
    "    smodel.summary()\n",
    "    return smodel\n",
    "model=cconstruct_model(0.001)\n",
    "from keras.utils import plot_model\n",
    "\n",
    "# Save the model architecture as a png file\n",
    "plot_model(model, to_file='model.png')\n",
    "\n",
    "\n"
   ]
  },
  {
   "cell_type": "code",
   "execution_count": 12,
   "id": "4fa5f4ad",
   "metadata": {},
   "outputs": [
    {
     "data": {
      "image/png": "[encoded data removed]",
      "text/plain": [
       "<PIL.Image.Image image mode=RGBA size=1034x379>"
      ]
     },
     "execution_count": 12,
     "metadata": {},
     "output_type": "execute_result"
    }
   ],
   "source": [
    "\n",
    "import visualkeras\n",
    "from PIL import ImageFont\n",
    "# visualize in small size in 10*10\n",
    "\n",
    "\n",
    "visualkeras.layered_view(model, legend=True, font=ImageFont.truetype('arial.ttf', 10), scale_xy=0.5, scale_z=0.5)\n",
    "\n",
    "\n",
    "# visualize the model with layers information in the image\n",
    "# visualkeras.layered_view(model, legend=True, font=ImageFont.truetype('arial.ttf', 10), scale_xy=1, scale_z=1)\n",
    "\n"
   ]
  },
  {
   "cell_type": "code",
   "execution_count": null,
   "id": "02234b02",
   "metadata": {},
   "outputs": [],
   "source": []
  }
 ],
 "metadata": {
  "kernelspec": {
   "display_name": "Python 3 (ipykernel)",
   "language": "python",
   "name": "python3"
  },
  "language_info": {
   "codemirror_mode": {
    "name": "ipython",
    "version": 3
   },
   "file_extension": ".py",
   "mimetype": "text/x-python",
   "name": "python",
   "nbconvert_exporter": "python",
   "pygments_lexer": "ipython3",
   "version": "3.9.13"
  }
 },
 "nbformat": 4,
 "nbformat_minor": 5
}
