{
 "cells": [
  {
   "cell_type": "code",
   "execution_count": 4,
   "id": "505b7849",
   "metadata": {},
   "outputs": [
    {
     "data": {
      "application/vnd.jupyter.widget-view+json": {
       "model_id": "a0f30cba39804c98aa5d84f1e3c4bcb4",
       "version_major": 2,
       "version_minor": 0
      },
      "text/plain": [
       "Dropdown(description='Select Image:', options=('normal (1000).jpg', 'normal (1003).jpg', 'normal (1004).jpg', …"
      ]
     },
     "metadata": {},
     "output_type": "display_data"
    },
    {
     "name": "stdout",
     "output_type": "stream",
     "text": [
      "[473, 619]\n",
      "[623, 530]\n"
     ]
    }
   ],
   "source": [
    "# Code to find the coordinates of the image for getting the ROI specific coordinates in the image.\n",
    "\n",
    "import cv2\n",
    "import ipywidgets as widgets\n",
    "from IPython.display import display\n",
    "import glob\n",
    "import os\n",
    "\n",
    "# Read the image\n",
    "def mouse_callback(event, x, y, flags, param):\n",
    "    # If the left mouse button is clicked,\n",
    "    # get the coordinates of the click\n",
    "    if event == cv2.EVENT_LBUTTONDOWN:\n",
    "        print([x, y])\n",
    "\n",
    "# Specify the folder path where the images are located\n",
    "folder_path = '../Project_code/NNJ/Normal/Filtered_normal/'\n",
    "\n",
    "# Get a list of image files in the specified folder\n",
    "image_files = glob.glob(folder_path + '*.jpg')\n",
    "\n",
    "# Extract only the image names from the file paths\n",
    "image_names = [os.path.basename(file) for file in image_files]\n",
    "\n",
    "# Create a dropdown widget for image selection\n",
    "image_dropdown = widgets.Dropdown(\n",
    "    options=image_names,\n",
    "    description='Select Image:'\n",
    ")\n",
    "\n",
    "# Function to handle image selection\n",
    "def select_image(change):\n",
    "    selected_image = change['new']\n",
    "    selected_image_path = os.path.join(folder_path, selected_image)\n",
    "    # Read the selected image\n",
    "    img = cv2.imread(selected_image_path)\n",
    "    # Create a window to display the image\n",
    "    cv2.namedWindow('Image', cv2.WINDOW_NORMAL)\n",
    "    # Set the mouse callback function\n",
    "    cv2.setMouseCallback('Image', mouse_callback)\n",
    "    # Show the image\n",
    "    cv2.imshow('Image', img)\n",
    "    # Wait for the user to press a key\n",
    "    cv2.waitKey(0)\n",
    "    # Close the window\n",
    "    cv2.destroyAllWindows()\n",
    "\n",
    "# Register the select_image function to be called when the dropdown value changes\n",
    "image_dropdown.observe(select_image, names='value')\n",
    "\n",
    "# Display the dropdown widget\n",
    "display(image_dropdown)\n"
   ]
  },
  {
   "cell_type": "code",
   "execution_count": null,
   "id": "838be6db",
   "metadata": {},
   "outputs": [],
   "source": []
  }
 ],
 "metadata": {
  "kernelspec": {
   "display_name": "Python 3 (ipykernel)",
   "language": "python",
   "name": "python3"
  },
  "language_info": {
   "codemirror_mode": {
    "name": "ipython",
    "version": 3
   },
   "file_extension": ".py",
   "mimetype": "text/x-python",
   "name": "python",
   "nbconvert_exporter": "python",
   "pygments_lexer": "ipython3",
   "version": "3.9.13"
  }
 },
 "nbformat": 4,
 "nbformat_minor": 5
}
